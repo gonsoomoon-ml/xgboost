{
 "cells": [
  {
   "cell_type": "markdown",
   "metadata": {},
   "source": [
    "# XGBoost simple example\n",
    "\n",
    "source : https://www.datacamp.com/community/tutorials/xgboost-in-python"
   ]
  },
  {
   "cell_type": "code",
   "execution_count": 1,
   "metadata": {},
   "outputs": [
    {
     "name": "stdout",
     "output_type": "stream",
     "text": [
      "Requirement already satisfied: xgboost in /home/ec2-user/anaconda3/envs/python3/lib/python3.6/site-packages (1.2.1)\n",
      "Requirement already satisfied: scipy in /home/ec2-user/anaconda3/envs/python3/lib/python3.6/site-packages (from xgboost) (1.4.1)\n",
      "Requirement already satisfied: numpy in /home/ec2-user/anaconda3/envs/python3/lib/python3.6/site-packages (from xgboost) (1.18.1)\n",
      "\u001b[33mWARNING: You are using pip version 20.2.4; however, version 21.0.1 is available.\n",
      "You should consider upgrading via the '/home/ec2-user/anaconda3/envs/python3/bin/python -m pip install --upgrade pip' command.\u001b[0m\n"
     ]
    }
   ],
   "source": [
    "!pip install xgboost"
   ]
  },
  {
   "cell_type": "markdown",
   "metadata": {},
   "source": [
    "### 데이터 로드"
   ]
  },
  {
   "cell_type": "code",
   "execution_count": 2,
   "metadata": {},
   "outputs": [
    {
     "data": {
      "text/html": [
       "<div>\n",
       "<style scoped>\n",
       "    .dataframe tbody tr th:only-of-type {\n",
       "        vertical-align: middle;\n",
       "    }\n",
       "\n",
       "    .dataframe tbody tr th {\n",
       "        vertical-align: top;\n",
       "    }\n",
       "\n",
       "    .dataframe thead th {\n",
       "        text-align: right;\n",
       "    }\n",
       "</style>\n",
       "<table border=\"1\" class=\"dataframe\">\n",
       "  <thead>\n",
       "    <tr style=\"text-align: right;\">\n",
       "      <th></th>\n",
       "      <th>CRIM</th>\n",
       "      <th>ZN</th>\n",
       "      <th>INDUS</th>\n",
       "      <th>CHAS</th>\n",
       "      <th>NOX</th>\n",
       "      <th>RM</th>\n",
       "      <th>AGE</th>\n",
       "      <th>DIS</th>\n",
       "      <th>RAD</th>\n",
       "      <th>TAX</th>\n",
       "      <th>PTRATIO</th>\n",
       "      <th>B</th>\n",
       "      <th>LSTAT</th>\n",
       "    </tr>\n",
       "  </thead>\n",
       "  <tbody>\n",
       "    <tr>\n",
       "      <th>0</th>\n",
       "      <td>0.00632</td>\n",
       "      <td>18.0</td>\n",
       "      <td>2.31</td>\n",
       "      <td>0.0</td>\n",
       "      <td>0.538</td>\n",
       "      <td>6.575</td>\n",
       "      <td>65.2</td>\n",
       "      <td>4.0900</td>\n",
       "      <td>1.0</td>\n",
       "      <td>296.0</td>\n",
       "      <td>15.3</td>\n",
       "      <td>396.90</td>\n",
       "      <td>4.98</td>\n",
       "    </tr>\n",
       "    <tr>\n",
       "      <th>1</th>\n",
       "      <td>0.02731</td>\n",
       "      <td>0.0</td>\n",
       "      <td>7.07</td>\n",
       "      <td>0.0</td>\n",
       "      <td>0.469</td>\n",
       "      <td>6.421</td>\n",
       "      <td>78.9</td>\n",
       "      <td>4.9671</td>\n",
       "      <td>2.0</td>\n",
       "      <td>242.0</td>\n",
       "      <td>17.8</td>\n",
       "      <td>396.90</td>\n",
       "      <td>9.14</td>\n",
       "    </tr>\n",
       "    <tr>\n",
       "      <th>2</th>\n",
       "      <td>0.02729</td>\n",
       "      <td>0.0</td>\n",
       "      <td>7.07</td>\n",
       "      <td>0.0</td>\n",
       "      <td>0.469</td>\n",
       "      <td>7.185</td>\n",
       "      <td>61.1</td>\n",
       "      <td>4.9671</td>\n",
       "      <td>2.0</td>\n",
       "      <td>242.0</td>\n",
       "      <td>17.8</td>\n",
       "      <td>392.83</td>\n",
       "      <td>4.03</td>\n",
       "    </tr>\n",
       "    <tr>\n",
       "      <th>3</th>\n",
       "      <td>0.03237</td>\n",
       "      <td>0.0</td>\n",
       "      <td>2.18</td>\n",
       "      <td>0.0</td>\n",
       "      <td>0.458</td>\n",
       "      <td>6.998</td>\n",
       "      <td>45.8</td>\n",
       "      <td>6.0622</td>\n",
       "      <td>3.0</td>\n",
       "      <td>222.0</td>\n",
       "      <td>18.7</td>\n",
       "      <td>394.63</td>\n",
       "      <td>2.94</td>\n",
       "    </tr>\n",
       "    <tr>\n",
       "      <th>4</th>\n",
       "      <td>0.06905</td>\n",
       "      <td>0.0</td>\n",
       "      <td>2.18</td>\n",
       "      <td>0.0</td>\n",
       "      <td>0.458</td>\n",
       "      <td>7.147</td>\n",
       "      <td>54.2</td>\n",
       "      <td>6.0622</td>\n",
       "      <td>3.0</td>\n",
       "      <td>222.0</td>\n",
       "      <td>18.7</td>\n",
       "      <td>396.90</td>\n",
       "      <td>5.33</td>\n",
       "    </tr>\n",
       "  </tbody>\n",
       "</table>\n",
       "</div>"
      ],
      "text/plain": [
       "      CRIM    ZN  INDUS  CHAS    NOX     RM   AGE     DIS  RAD    TAX  \\\n",
       "0  0.00632  18.0   2.31   0.0  0.538  6.575  65.2  4.0900  1.0  296.0   \n",
       "1  0.02731   0.0   7.07   0.0  0.469  6.421  78.9  4.9671  2.0  242.0   \n",
       "2  0.02729   0.0   7.07   0.0  0.469  7.185  61.1  4.9671  2.0  242.0   \n",
       "3  0.03237   0.0   2.18   0.0  0.458  6.998  45.8  6.0622  3.0  222.0   \n",
       "4  0.06905   0.0   2.18   0.0  0.458  7.147  54.2  6.0622  3.0  222.0   \n",
       "\n",
       "   PTRATIO       B  LSTAT  \n",
       "0     15.3  396.90   4.98  \n",
       "1     17.8  396.90   9.14  \n",
       "2     17.8  392.83   4.03  \n",
       "3     18.7  394.63   2.94  \n",
       "4     18.7  396.90   5.33  "
      ]
     },
     "execution_count": 2,
     "metadata": {},
     "output_type": "execute_result"
    }
   ],
   "source": [
    "from sklearn.datasets import load_boston\n",
    "import pandas as pd\n",
    "import numpy as np\n",
    "\n",
    "boston = load_boston()\n",
    "data = pd.DataFrame(boston.data)\n",
    "data.columns = boston.feature_names\n",
    "data.head()"
   ]
  },
  {
   "cell_type": "code",
   "execution_count": 3,
   "metadata": {},
   "outputs": [
    {
     "name": "stdout",
     "output_type": "stream",
     "text": [
      ".. _boston_dataset:\n",
      "\n",
      "Boston house prices dataset\n",
      "---------------------------\n",
      "\n",
      "**Data Set Characteristics:**  \n",
      "\n",
      "    :Number of Instances: 506 \n",
      "\n",
      "    :Number of Attributes: 13 numeric/categorical predictive. Median Value (attribute 14) is usually the target.\n",
      "\n",
      "    :Attribute Information (in order):\n",
      "        - CRIM     per capita crime rate by town\n",
      "        - ZN       proportion of residential land zoned for lots over 25,000 sq.ft.\n",
      "        - INDUS    proportion of non-retail business acres per town\n",
      "        - CHAS     Charles River dummy variable (= 1 if tract bounds river; 0 otherwise)\n",
      "        - NOX      nitric oxides concentration (parts per 10 million)\n",
      "        - RM       average number of rooms per dwelling\n",
      "        - AGE      proportion of owner-occupied units built prior to 1940\n",
      "        - DIS      weighted distances to five Boston employment centres\n",
      "        - RAD      index of accessibility to radial highways\n",
      "        - TAX      full-value property-tax rate per $10,000\n",
      "        - PTRATIO  pupil-teacher ratio by town\n",
      "        - B        1000(Bk - 0.63)^2 where Bk is the proportion of blacks by town\n",
      "        - LSTAT    % lower status of the population\n",
      "        - MEDV     Median value of owner-occupied homes in $1000's\n",
      "\n",
      "    :Missing Attribute Values: None\n",
      "\n",
      "    :Creator: Harrison, D. and Rubinfeld, D.L.\n",
      "\n",
      "This is a copy of UCI ML housing dataset.\n",
      "https://archive.ics.uci.edu/ml/machine-learning-databases/housing/\n",
      "\n",
      "\n",
      "This dataset was taken from the StatLib library which is maintained at Carnegie Mellon University.\n",
      "\n",
      "The Boston house-price data of Harrison, D. and Rubinfeld, D.L. 'Hedonic\n",
      "prices and the demand for clean air', J. Environ. Economics & Management,\n",
      "vol.5, 81-102, 1978.   Used in Belsley, Kuh & Welsch, 'Regression diagnostics\n",
      "...', Wiley, 1980.   N.B. Various transformations are used in the table on\n",
      "pages 244-261 of the latter.\n",
      "\n",
      "The Boston house-price data has been used in many machine learning papers that address regression\n",
      "problems.   \n",
      "     \n",
      ".. topic:: References\n",
      "\n",
      "   - Belsley, Kuh & Welsch, 'Regression diagnostics: Identifying Influential Data and Sources of Collinearity', Wiley, 1980. 244-261.\n",
      "   - Quinlan,R. (1993). Combining Instance-Based and Model-Based Learning. In Proceedings on the Tenth International Conference of Machine Learning, 236-243, University of Massachusetts, Amherst. Morgan Kaufmann.\n",
      "\n"
     ]
    }
   ],
   "source": [
    "print(boston.DESCR)"
   ]
  },
  {
   "cell_type": "markdown",
   "metadata": {},
   "source": [
    "### 학습/테스트 데이터셋 분리\n",
    "\n",
    "_아래 힌트를 참고하여 다음 셀의 TO DO 를 완성하세요._\n",
    "\n",
    "<details>\n",
    "  <summary>힌트</summary>\n",
    "    \n",
    "  ```python\n",
    "    X_train, X_test, y_train, y_test = train_test_split(data, boston.target, test_size=0.2, random_state=123)\n",
    "  ```\n",
    "    \n",
    "</details>"
   ]
  },
  {
   "cell_type": "code",
   "execution_count": 4,
   "metadata": {},
   "outputs": [],
   "source": [
    "from sklearn.model_selection import train_test_split\n",
    "\n",
    "X_train, X_test, y_train, y_test = train_test_split(data, boston.target, test_size=0.2, random_state=123)"
   ]
  },
  {
   "cell_type": "code",
   "execution_count": 5,
   "metadata": {},
   "outputs": [
    {
     "data": {
      "text/plain": [
       "array([48.5, 17.1, 23.1, 28.4, 18.9, 13. , 17.2, 24.1, 18.5, 21.8, 13.3,\n",
       "       23. , 14.1, 23.9, 24. , 17.2, 21.5, 19.1, 20.8, 36. , 20.1,  8.7,\n",
       "       13.6, 22. , 22.2, 21.1, 13.4, 17.4, 20.1, 10.2, 23.1, 10.2, 13.1,\n",
       "       14.3, 14.5,  7.2, 19.6, 20.6, 22.7, 26.4,  7.5, 20.3, 50. ,  8.5,\n",
       "       20.3, 16.1, 22. , 19.6, 10.2, 23.2, 35.2, 25. , 36.2, 16.1, 10.9,\n",
       "       36.4, 25. , 20.1, 16.8, 23.7, 42.3, 17.9, 12.7, 50. , 18.4, 33.4,\n",
       "       22.9, 14.6, 29.9, 22.6, 22.5, 29. , 50. , 37.9, 21.4, 29.4, 20.3,\n",
       "       23. , 30.1, 21.7, 36.5, 25. , 24.5, 37.3, 33.8, 24.7, 32.7, 23.1,\n",
       "       25.1, 21.7, 13.4, 24.8, 12.7, 11.8,  8.3, 20.2, 41.3, 23.2, 23.1,\n",
       "       24.3, 19.3, 10.8, 18.6, 29. , 23.9, 19.5, 13.1, 31.7, 21. , 18.2,\n",
       "       21. , 21.2, 14.1, 33.2, 13.8, 19.9, 21.7, 20.6, 21.2, 13.6, 18.9,\n",
       "       18. , 24.1, 28.7, 23.4, 15.2, 23.6, 13.8, 11.7, 16.3, 50. , 13.5,\n",
       "       50. , 31.5, 22.6, 12.1, 21.7, 14.1, 22.4, 13.4, 33.1, 20.6,  8.3,\n",
       "       36.2,  6.3, 21.5, 23.3, 24. , 19.1, 29.6, 27.9, 16.2,  9.5, 24.6,\n",
       "       15.6,  8.1, 15.3, 19. , 22. , 28. , 19.2, 14.5,  9.7, 30.7, 20.6,\n",
       "       16. , 19.8, 17.8, 21.2, 28.7, 41.7,  7.2, 13.4, 17.7, 26.7, 23.8,\n",
       "       21.8, 27.1, 18.3,  5. , 10.4, 18.5, 17.4, 28.6, 50. , 14.2, 31.2,\n",
       "        8.4, 23. , 35.1, 23.9, 20.3, 46.7, 15. , 18.4, 17.8, 22.5, 18.8,\n",
       "       20.9, 50. , 29.1, 17.1, 10.5, 18.8, 27.5, 19.5, 22. ,  5. , 21.7,\n",
       "       50. , 35.4, 32. , 20.5, 16.8, 22.9,  8.5, 50. , 22.2, 15.2, 22.6,\n",
       "        7. , 19.3, 26.4, 12.8, 19.2, 19.7, 38.7, 30.3, 25. , 23.7, 11.7,\n",
       "       17.5,  5.6, 25. , 14.9, 22.3, 20.5, 50. , 24.8, 20.7, 23.2, 19.7,\n",
       "       19.4, 29.8, 34.9, 11. , 12.5, 23.5, 24.4, 16.5, 20.8, 23.3, 24.4,\n",
       "       19.3, 19.6, 21. , 14.4, 23.6, 21.4, 28.2, 24.8, 18.5, 21.9, 23.1,\n",
       "       18.7, 26.6, 25. , 44. , 22. , 27.1, 16.2,  8.4, 20. , 22.5, 19.4,\n",
       "       25. , 18.4, 23.1, 33.1, 31.1, 19.5, 21.2, 20.6, 19.8, 21.9, 21.7,\n",
       "       14.8, 14. , 34.6, 13.3, 18.2, 22.2, 22.8, 48.8, 27.5, 23.7, 30.1,\n",
       "       13.1, 11.9, 18.2, 19.3, 15.4, 17.8, 22. , 33.4, 16.5, 24.7, 36.1,\n",
       "       48.3, 13.8, 20.5, 21.6, 20.2, 43.5, 13.3, 19.4, 13.9, 32.5, 21.7,\n",
       "       50. , 24.7, 14.3, 22.6, 17.6, 20.9, 21.1, 15.1, 12. , 17. , 50. ,\n",
       "       11.9, 24.2, 20. , 24.3, 23. , 17.8, 25.2, 15.6, 22.6, 29.1, 12.7,\n",
       "       23.8,  8.8, 17.1, 33. , 24.6, 18.3,  7.4, 23.8, 20. , 28.5, 17.2,\n",
       "       22.9, 20.4, 28.1, 30.1, 22.7, 39.8, 24.5, 10.4, 33.2, 19.9, 18.1,\n",
       "       23.2, 11.8,  7. , 23.9, 23.9, 30.8, 18.7, 34.7, 15.2, 22.1, 28.4,\n",
       "       17.4, 24.4, 20.1, 16.7, 42.8, 20.7, 19. , 27.5, 22.8, 44.8, 14.5,\n",
       "       13.2, 23.4, 16.6, 15.7, 18.7, 21.4, 50. , 23.7, 31.6, 17.3, 19.5,\n",
       "       22.9, 17.5, 24.3, 43.8, 16.7, 20.4, 11.3, 27.5])"
      ]
     },
     "execution_count": 5,
     "metadata": {},
     "output_type": "execute_result"
    }
   ],
   "source": [
    "y_train"
   ]
  },
  {
   "cell_type": "markdown",
   "metadata": {},
   "source": [
    "### XGBoost를 이용한 Regression 학습\n",
    "\n",
    "- 파라미터 참조 : https://xgboost.readthedocs.io/en/latest/parameter.html#general-parameters\n",
    "- 주요 파리미터\n",
    "    + objective : determines the loss function to be used like `reg:linear` for regression problems, `reg:logistic` for classification problems with only decision, `binary:logistic` for classification problems with probability.\n",
    "    + colsample_bytree : percentage of features used per tree. High value can lead to overfitting.\n",
    "    + learning_rate : step size shrinkage used to prevent overfitting. Range is [0,1]\n",
    "    + max_depth : determines how deeply each tree is allowed to grow during any boosting round.\n",
    "    + alpha : L1 regularization on leaf weights. A large value leads to more regularization.\n",
    "    + n_estimators : number of trees you want to build."
   ]
  },
  {
   "cell_type": "code",
   "execution_count": 6,
   "metadata": {},
   "outputs": [],
   "source": [
    "import xgboost as xgb\n",
    "\n",
    "xg_reg = xgb.XGBRegressor(objective ='reg:squarederror', colsample_bytree = 0.3, learning_rate = 0.1,\n",
    "                max_depth = 5, alpha = 10, n_estimators = 10)"
   ]
  },
  {
   "cell_type": "markdown",
   "metadata": {},
   "source": [
    "_아래 힌트를 참고하여 다음 셀의 TO DO 를 완성하세요._\n",
    "\n",
    "<details>\n",
    "  <summary>힌트</summary>\n",
    "    \n",
    "  ```python\n",
    "    model = xg_reg.fit(X_train,y_train)\n",
    "  ```\n",
    "    \n",
    "</details>"
   ]
  },
  {
   "cell_type": "code",
   "execution_count": 7,
   "metadata": {},
   "outputs": [],
   "source": [
    "model = xg_reg.fit(X_train,y_train)"
   ]
  },
  {
   "cell_type": "code",
   "execution_count": 8,
   "metadata": {},
   "outputs": [
    {
     "data": {
      "text/plain": [
       "{'RM': 10,\n",
       " 'PTRATIO': 4,\n",
       " 'NOX': 10,\n",
       " 'CRIM': 11,\n",
       " 'DIS': 2,\n",
       " 'TAX': 5,\n",
       " 'B': 4,\n",
       " 'ZN': 1,\n",
       " 'INDUS': 4,\n",
       " 'AGE': 3,\n",
       " 'LSTAT': 8}"
      ]
     },
     "execution_count": 8,
     "metadata": {},
     "output_type": "execute_result"
    }
   ],
   "source": [
    "model.get_booster().get_score(importance_type='weight')"
   ]
  },
  {
   "cell_type": "markdown",
   "metadata": {},
   "source": [
    "### 예측\n",
    "\n",
    "_아래 힌트를 참고하여 다음 셀의 TO DO 를 완성하세요._\n",
    "\n",
    "<details>\n",
    "  <summary>힌트</summary>\n",
    "    \n",
    "  ```python\n",
    "    preds = xg_reg.predict(X_test)\n",
    "  ```\n",
    "    \n",
    "</details>"
   ]
  },
  {
   "cell_type": "code",
   "execution_count": 9,
   "metadata": {},
   "outputs": [],
   "source": [
    " preds = xg_reg.predict(X_test)"
   ]
  },
  {
   "cell_type": "code",
   "execution_count": 10,
   "metadata": {},
   "outputs": [
    {
     "name": "stdout",
     "output_type": "stream",
     "text": [
      "RMSE: 10.496021\n"
     ]
    }
   ],
   "source": [
    "from sklearn.metrics import mean_squared_error\n",
    "\n",
    "rmse = np.sqrt(mean_squared_error(y_test, preds))\n",
    "print(\"RMSE: %f\" % (rmse))"
   ]
  },
  {
   "cell_type": "code",
   "execution_count": null,
   "metadata": {},
   "outputs": [],
   "source": []
  },
  {
   "cell_type": "code",
   "execution_count": null,
   "metadata": {},
   "outputs": [],
   "source": []
  },
  {
   "cell_type": "code",
   "execution_count": null,
   "metadata": {},
   "outputs": [],
   "source": []
  }
 ],
 "metadata": {
  "kernelspec": {
   "display_name": "conda_python3",
   "language": "python",
   "name": "conda_python3"
  },
  "language_info": {
   "codemirror_mode": {
    "name": "ipython",
    "version": 3
   },
   "file_extension": ".py",
   "mimetype": "text/x-python",
   "name": "python",
   "nbconvert_exporter": "python",
   "pygments_lexer": "ipython3",
   "version": "3.6.10"
  }
 },
 "nbformat": 4,
 "nbformat_minor": 4
}
